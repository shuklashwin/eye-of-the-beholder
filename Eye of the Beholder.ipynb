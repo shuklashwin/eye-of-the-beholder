{
 "cells": [
  {
   "cell_type": "code",
   "execution_count": 53,
   "metadata": {},
   "outputs": [],
   "source": [
    "import requests\n",
    "import json"
   ]
  },
  {
   "cell_type": "code",
   "execution_count": 60,
   "metadata": {},
   "outputs": [],
   "source": [
    "base = 'https://api.unsplash.com'\n",
    "access_token = '?client_id=XAr4PW7NsYwpYRbCo4xfwjfSL2N4THq0jMkEIoM1Be4'\n",
    "filter = '&order_by=popular&per_page=50'\n",
    "download_path = '/Users/ashwinshukl/Pictures/Unsplash_temp/'"
   ]
  },
  {
   "cell_type": "code",
   "execution_count": 61,
   "metadata": {},
   "outputs": [
    {
     "name": "stdout",
     "output_type": "stream",
     "text": [
      "Hitting URL: https://api.unsplash.com/photos?client_id=XAr4PW7NsYwpYRbCo4xfwjfSL2N4THq0jMkEIoM1Be4&order_by=popular&per_page=50\n"
     ]
    }
   ],
   "source": [
    "request_url = base + '/photos' + access_token + filter\n",
    "print('Hitting URL: {}'.format(request_url))\n",
    "response = requests.get(request_url)\n",
    "if response.status_code != 200:\n",
    "    raise Exception('GET {} {}'.format(request_url, response.status_code))\n",
    "    \n",
    "photos = response.json()"
   ]
  },
  {
   "cell_type": "code",
   "execution_count": 62,
   "metadata": {},
   "outputs": [],
   "source": [
    "for photo in photos:\n",
    "    width = photo[\"width\"]\n",
    "    height = photo[\"height\"]\n",
    "    if width >= 2650 and height >= 1600 and width > height:\n",
    "        download_url = photo[\"links\"][\"download\"]\n",
    "        image = requests.get(download_url)\n",
    "        with open(download_path + photo[\"id\"] + '.jpg', 'wb') as f:\n",
    "            f.write(image.content)"
   ]
  },
  {
   "cell_type": "code",
   "execution_count": null,
   "metadata": {},
   "outputs": [],
   "source": []
  }
 ],
 "metadata": {
  "kernelspec": {
   "display_name": "Python 3",
   "language": "python",
   "name": "python3"
  },
  "language_info": {
   "codemirror_mode": {
    "name": "ipython",
    "version": 3
   },
   "file_extension": ".py",
   "mimetype": "text/x-python",
   "name": "python",
   "nbconvert_exporter": "python",
   "pygments_lexer": "ipython3",
   "version": "3.7.6"
  }
 },
 "nbformat": 4,
 "nbformat_minor": 2
}
